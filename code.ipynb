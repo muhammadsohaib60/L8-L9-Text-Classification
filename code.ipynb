{
  "cells": [
    {
      "cell_type": "markdown",
      "metadata": {
        "id": "7o9arbvqRmLJ"
      },
      "source": [
        "### Importing Libraries"
      ]
    },
    {
      "cell_type": "code",
      "execution_count": 1,
      "metadata": {
        "colab": {
          "base_uri": "https://localhost:8080/"
        },
        "id": "moGUH99nRmMY",
        "outputId": "223cce8f-0e4a-485d-9f7d-cf9dd3850f34"
      },
      "outputs": [
        {
          "name": "stderr",
          "output_type": "stream",
          "text": [
            "C:\\Users\\Hamza\\AppData\\Roaming\\Python\\Python311\\site-packages\\tqdm\\auto.py:21: TqdmWarning: IProgress not found. Please update jupyter and ipywidgets. See https://ipywidgets.readthedocs.io/en/stable/user_install.html\n",
            "  from .autonotebook import tqdm as notebook_tqdm\n",
            "[nltk_data] Downloading package punkt to\n",
            "[nltk_data]     C:\\Users\\Hamza\\AppData\\Roaming\\nltk_data...\n",
            "[nltk_data]   Package punkt is already up-to-date!\n",
            "[nltk_data] Downloading package stopwords to\n",
            "[nltk_data]     C:\\Users\\Hamza\\AppData\\Roaming\\nltk_data...\n",
            "[nltk_data]   Package stopwords is already up-to-date!\n"
          ]
        },
        {
          "data": {
            "text/plain": [
              "True"
            ]
          },
          "execution_count": 1,
          "metadata": {},
          "output_type": "execute_result"
        }
      ],
      "source": [
        "import pandas as pd\n",
        "import numpy as np\n",
        "import nltk\n",
        "from nltk.corpus import stopwords\n",
        "from nltk.tokenize import word_tokenize\n",
        "import string\n",
        "import re\n",
        "from gensim.models import Word2Vec\n",
        "from sklearn.feature_extraction.text import CountVectorizer\n",
        "from sklearn.model_selection import train_test_split\n",
        "from sklearn.linear_model import LogisticRegression\n",
        "from sklearn.metrics import accuracy_score,accuracy_score, precision_score, recall_score, f1_score, classification_report\n",
        "from sklearn.feature_extraction.text import TfidfVectorizer\n",
        "from sklearn.tree import DecisionTreeClassifier\n",
        "from sklearn.ensemble import RandomForestClassifier\n",
        "from sklearn.preprocessing import StandardScaler\n",
        "import torch\n",
        "from transformers import BertTokenizer, BertForSequenceClassification\n",
        "from torch.utils.data import DataLoader, TensorDataset\n",
        "import json\n",
        "import random\n",
        "from sklearn.model_selection import train_test_split\n",
        "import pickle\n",
        "\n",
        "\n",
        "nltk.download('punkt')\n",
        "nltk.download('stopwords')"
      ]
    },
    {
      "cell_type": "markdown",
      "metadata": {
        "id": "RvegcE5BRmNE"
      },
      "source": [
        "### Reading Data"
      ]
    },
    {
      "cell_type": "code",
      "execution_count": 2,
      "metadata": {
        "colab": {
          "base_uri": "https://localhost:8080/",
          "height": 666
        },
        "id": "QieCqVisRmNN",
        "outputId": "fddfdfec-58f8-445a-bf56-4b0ba419761b"
      },
      "outputs": [
        {
          "data": {
            "text/html": [
              "<div>\n",
              "<style scoped>\n",
              "    .dataframe tbody tr th:only-of-type {\n",
              "        vertical-align: middle;\n",
              "    }\n",
              "\n",
              "    .dataframe tbody tr th {\n",
              "        vertical-align: top;\n",
              "    }\n",
              "\n",
              "    .dataframe thead th {\n",
              "        text-align: right;\n",
              "    }\n",
              "</style>\n",
              "<table border=\"1\" class=\"dataframe\">\n",
              "  <thead>\n",
              "    <tr style=\"text-align: right;\">\n",
              "      <th></th>\n",
              "      <th>Learning Message</th>\n",
              "      <th>L8 code</th>\n",
              "    </tr>\n",
              "  </thead>\n",
              "  <tbody>\n",
              "    <tr>\n",
              "      <th>0</th>\n",
              "      <td>Develop partnerships with local organizations ...</td>\n",
              "      <td>SettingGoals</td>\n",
              "    </tr>\n",
              "    <tr>\n",
              "      <th>1</th>\n",
              "      <td>Unfortunately, I have to acknowledge that my p...</td>\n",
              "      <td>PastDFWork</td>\n",
              "    </tr>\n",
              "    <tr>\n",
              "      <th>2</th>\n",
              "      <td>Directions\\nRead the story below and then work...</td>\n",
              "      <td>EffectsCB</td>\n",
              "    </tr>\n",
              "    <tr>\n",
              "      <th>3</th>\n",
              "      <td>Ensure AI and machine learning applications do...</td>\n",
              "      <td>DigitalEntrepreneurMinimizeRisk</td>\n",
              "    </tr>\n",
              "    <tr>\n",
              "      <th>4</th>\n",
              "      <td>DirectionsWrite two things you learned about h...</td>\n",
              "      <td>PrioritizeLife</td>\n",
              "    </tr>\n",
              "    <tr>\n",
              "      <th>...</th>\n",
              "      <td>...</td>\n",
              "      <td>...</td>\n",
              "    </tr>\n",
              "    <tr>\n",
              "      <th>14615</th>\n",
              "      <td>Think twice about sharing your real name on so...</td>\n",
              "      <td>AnonyPI</td>\n",
              "    </tr>\n",
              "    <tr>\n",
              "      <th>14616</th>\n",
              "      <td>Not all online actions have the same impact.</td>\n",
              "      <td>DefDF</td>\n",
              "    </tr>\n",
              "    <tr>\n",
              "      <th>14617</th>\n",
              "      <td>Evaluate the impact on affected individuals an...</td>\n",
              "      <td>StrategyData</td>\n",
              "    </tr>\n",
              "    <tr>\n",
              "      <th>14618</th>\n",
              "      <td>Enable two-factor authentication on accounts f...</td>\n",
              "      <td>PurchaseOnline</td>\n",
              "    </tr>\n",
              "    <tr>\n",
              "      <th>14619</th>\n",
              "      <td>Investigate the use of generative music algori...</td>\n",
              "      <td>DevTech</td>\n",
              "    </tr>\n",
              "  </tbody>\n",
              "</table>\n",
              "<p>14620 rows × 2 columns</p>\n",
              "</div>"
            ],
            "text/plain": [
              "                                        Learning Message  \\\n",
              "0      Develop partnerships with local organizations ...   \n",
              "1      Unfortunately, I have to acknowledge that my p...   \n",
              "2      Directions\\nRead the story below and then work...   \n",
              "3      Ensure AI and machine learning applications do...   \n",
              "4      DirectionsWrite two things you learned about h...   \n",
              "...                                                  ...   \n",
              "14615  Think twice about sharing your real name on so...   \n",
              "14616       Not all online actions have the same impact.   \n",
              "14617  Evaluate the impact on affected individuals an...   \n",
              "14618  Enable two-factor authentication on accounts f...   \n",
              "14619  Investigate the use of generative music algori...   \n",
              "\n",
              "                               L8 code  \n",
              "0                         SettingGoals  \n",
              "1                           PastDFWork  \n",
              "2                            EffectsCB  \n",
              "3      DigitalEntrepreneurMinimizeRisk  \n",
              "4                       PrioritizeLife  \n",
              "...                                ...  \n",
              "14615                          AnonyPI  \n",
              "14616                            DefDF  \n",
              "14617                     StrategyData  \n",
              "14618                   PurchaseOnline  \n",
              "14619                          DevTech  \n",
              "\n",
              "[14620 rows x 2 columns]"
            ]
          },
          "execution_count": 2,
          "metadata": {},
          "output_type": "execute_result"
        }
      ],
      "source": [
        "df_testset1 = pd.read_excel(\"testset1.xlsx\")\n",
        "df_train = pd.read_excel(\"train.xlsx\")\n",
        "df_testset2 = pd.read_excel(\"testset2.xlsx\")\n",
        "df_testset4 = pd.read_excel(\"testset4.xlsx\")\n",
        "\n",
        "df_testset1 = df_testset1.rename(columns={\"Definition\": \"Learning Message\"})\n",
        "df_testset1 = df_testset1[['Learning Message', 'L8 code']]\n",
        "df_testset2 = df_testset2.rename(columns={\"Definition\": \"Learning Message\"})\n",
        "df_testset2 = df_testset2[['Learning Message', 'L8 code']]\n",
        "df_testset4 = df_testset4.rename(columns={\"Definition\": \"Learning Message\"})\n",
        "df_testset4 = df_testset4[['Learning Message', 'L8 code']]\n",
        "df_train = df_train[['Learning Message', 'L8 code']]\n",
        "\n",
        "df = pd.concat([df_train, df_testset1, df_testset2, df_testset4])\n",
        "df = df.sample(frac=1).reset_index(drop=True)\n",
        "\n",
        "df"
      ]
    },
    {
      "cell_type": "markdown",
      "metadata": {},
      "source": [
        "### Split data into train-test"
      ]
    },
    {
      "cell_type": "code",
      "execution_count": 3,
      "metadata": {},
      "outputs": [],
      "source": [
        "df_train = df[:int(0.9*len(df))].copy()\n",
        "df_testset1 =  df[int(0.9*len(df)):].copy()"
      ]
    },
    {
      "cell_type": "code",
      "execution_count": 4,
      "metadata": {},
      "outputs": [],
      "source": [
        "common_values = df_train['L8 code'].isin(df_testset1['L8 code'])\n",
        "df_train = df_train[common_values]\n",
        "testset1 = df_testset1[df_testset1['L8 code'].isin(df_train['L8 code'])]"
      ]
    },
    {
      "cell_type": "code",
      "execution_count": 5,
      "metadata": {},
      "outputs": [
        {
          "data": {
            "text/html": [
              "<div>\n",
              "<style scoped>\n",
              "    .dataframe tbody tr th:only-of-type {\n",
              "        vertical-align: middle;\n",
              "    }\n",
              "\n",
              "    .dataframe tbody tr th {\n",
              "        vertical-align: top;\n",
              "    }\n",
              "\n",
              "    .dataframe thead th {\n",
              "        text-align: right;\n",
              "    }\n",
              "</style>\n",
              "<table border=\"1\" class=\"dataframe\">\n",
              "  <thead>\n",
              "    <tr style=\"text-align: right;\">\n",
              "      <th></th>\n",
              "      <th>Learning Message</th>\n",
              "      <th>L8 code</th>\n",
              "    </tr>\n",
              "  </thead>\n",
              "  <tbody>\n",
              "    <tr>\n",
              "      <th>0</th>\n",
              "      <td>Develop partnerships with local organizations ...</td>\n",
              "      <td>SettingGoals</td>\n",
              "    </tr>\n",
              "    <tr>\n",
              "      <th>1</th>\n",
              "      <td>Unfortunately, I have to acknowledge that my p...</td>\n",
              "      <td>PastDFWork</td>\n",
              "    </tr>\n",
              "    <tr>\n",
              "      <th>2</th>\n",
              "      <td>Directions\\nRead the story below and then work...</td>\n",
              "      <td>EffectsCB</td>\n",
              "    </tr>\n",
              "    <tr>\n",
              "      <th>3</th>\n",
              "      <td>Ensure AI and machine learning applications do...</td>\n",
              "      <td>DigitalEntrepreneurMinimizeRisk</td>\n",
              "    </tr>\n",
              "    <tr>\n",
              "      <th>4</th>\n",
              "      <td>DirectionsWrite two things you learned about h...</td>\n",
              "      <td>PrioritizeLife</td>\n",
              "    </tr>\n",
              "    <tr>\n",
              "      <th>...</th>\n",
              "      <td>...</td>\n",
              "      <td>...</td>\n",
              "    </tr>\n",
              "    <tr>\n",
              "      <th>13153</th>\n",
              "      <td>Before the video, ask: Have you ever noticed a...</td>\n",
              "      <td>MediaInfKnow</td>\n",
              "    </tr>\n",
              "    <tr>\n",
              "      <th>13154</th>\n",
              "      <td>Share how meeting an online friend impacted yo...</td>\n",
              "      <td>StrangerRisk</td>\n",
              "    </tr>\n",
              "    <tr>\n",
              "      <th>13155</th>\n",
              "      <td>“THE 3-2-1 RULE”!3That means playing games LES...</td>\n",
              "      <td>STEnt</td>\n",
              "    </tr>\n",
              "    <tr>\n",
              "      <th>13156</th>\n",
              "      <td>• Collect ads that use these techniques.  Make...</td>\n",
              "      <td>DigMarketing</td>\n",
              "    </tr>\n",
              "    <tr>\n",
              "      <th>13157</th>\n",
              "      <td>Regularly update your device's security settin...</td>\n",
              "      <td>DetectIoTRisks</td>\n",
              "    </tr>\n",
              "  </tbody>\n",
              "</table>\n",
              "<p>13158 rows × 2 columns</p>\n",
              "</div>"
            ],
            "text/plain": [
              "                                        Learning Message  \\\n",
              "0      Develop partnerships with local organizations ...   \n",
              "1      Unfortunately, I have to acknowledge that my p...   \n",
              "2      Directions\\nRead the story below and then work...   \n",
              "3      Ensure AI and machine learning applications do...   \n",
              "4      DirectionsWrite two things you learned about h...   \n",
              "...                                                  ...   \n",
              "13153  Before the video, ask: Have you ever noticed a...   \n",
              "13154  Share how meeting an online friend impacted yo...   \n",
              "13155  “THE 3-2-1 RULE”!3That means playing games LES...   \n",
              "13156  • Collect ads that use these techniques.  Make...   \n",
              "13157  Regularly update your device's security settin...   \n",
              "\n",
              "                               L8 code  \n",
              "0                         SettingGoals  \n",
              "1                           PastDFWork  \n",
              "2                            EffectsCB  \n",
              "3      DigitalEntrepreneurMinimizeRisk  \n",
              "4                       PrioritizeLife  \n",
              "...                                ...  \n",
              "13153                     MediaInfKnow  \n",
              "13154                     StrangerRisk  \n",
              "13155                            STEnt  \n",
              "13156                     DigMarketing  \n",
              "13157                   DetectIoTRisks  \n",
              "\n",
              "[13158 rows x 2 columns]"
            ]
          },
          "execution_count": 5,
          "metadata": {},
          "output_type": "execute_result"
        }
      ],
      "source": [
        "df_train"
      ]
    },
    {
      "cell_type": "code",
      "execution_count": 6,
      "metadata": {},
      "outputs": [
        {
          "data": {
            "text/html": [
              "<div>\n",
              "<style scoped>\n",
              "    .dataframe tbody tr th:only-of-type {\n",
              "        vertical-align: middle;\n",
              "    }\n",
              "\n",
              "    .dataframe tbody tr th {\n",
              "        vertical-align: top;\n",
              "    }\n",
              "\n",
              "    .dataframe thead th {\n",
              "        text-align: right;\n",
              "    }\n",
              "</style>\n",
              "<table border=\"1\" class=\"dataframe\">\n",
              "  <thead>\n",
              "    <tr style=\"text-align: right;\">\n",
              "      <th></th>\n",
              "      <th>Learning Message</th>\n",
              "      <th>L8 code</th>\n",
              "    </tr>\n",
              "  </thead>\n",
              "  <tbody>\n",
              "    <tr>\n",
              "      <th>13158</th>\n",
              "      <td>Find an article on the Internet about shark fi...</td>\n",
              "      <td>ComposingIPstate</td>\n",
              "    </tr>\n",
              "    <tr>\n",
              "      <th>13159</th>\n",
              "      <td>• What about the market position? Have these c...</td>\n",
              "      <td>KnowBiz</td>\n",
              "    </tr>\n",
              "    <tr>\n",
              "      <th>13160</th>\n",
              "      <td>Prioritize researching privacy concerns before...</td>\n",
              "      <td>KnowMyPISafe</td>\n",
              "    </tr>\n",
              "    <tr>\n",
              "      <th>13161</th>\n",
              "      <td>Identify whom you should talk back to about it...</td>\n",
              "      <td>FollowChainDF</td>\n",
              "    </tr>\n",
              "    <tr>\n",
              "      <th>13162</th>\n",
              "      <td>Turn off your webcam when it's not needed to p...</td>\n",
              "      <td>SkillsLimitPI</td>\n",
              "    </tr>\n",
              "    <tr>\n",
              "      <th>...</th>\n",
              "      <td>...</td>\n",
              "      <td>...</td>\n",
              "    </tr>\n",
              "    <tr>\n",
              "      <th>14615</th>\n",
              "      <td>Think twice about sharing your real name on so...</td>\n",
              "      <td>AnonyPI</td>\n",
              "    </tr>\n",
              "    <tr>\n",
              "      <th>14616</th>\n",
              "      <td>Not all online actions have the same impact.</td>\n",
              "      <td>DefDF</td>\n",
              "    </tr>\n",
              "    <tr>\n",
              "      <th>14617</th>\n",
              "      <td>Evaluate the impact on affected individuals an...</td>\n",
              "      <td>StrategyData</td>\n",
              "    </tr>\n",
              "    <tr>\n",
              "      <th>14618</th>\n",
              "      <td>Enable two-factor authentication on accounts f...</td>\n",
              "      <td>PurchaseOnline</td>\n",
              "    </tr>\n",
              "    <tr>\n",
              "      <th>14619</th>\n",
              "      <td>Investigate the use of generative music algori...</td>\n",
              "      <td>DevTech</td>\n",
              "    </tr>\n",
              "  </tbody>\n",
              "</table>\n",
              "<p>1462 rows × 2 columns</p>\n",
              "</div>"
            ],
            "text/plain": [
              "                                        Learning Message           L8 code\n",
              "13158  Find an article on the Internet about shark fi...  ComposingIPstate\n",
              "13159  • What about the market position? Have these c...           KnowBiz\n",
              "13160  Prioritize researching privacy concerns before...      KnowMyPISafe\n",
              "13161  Identify whom you should talk back to about it...     FollowChainDF\n",
              "13162  Turn off your webcam when it's not needed to p...     SkillsLimitPI\n",
              "...                                                  ...               ...\n",
              "14615  Think twice about sharing your real name on so...           AnonyPI\n",
              "14616       Not all online actions have the same impact.             DefDF\n",
              "14617  Evaluate the impact on affected individuals an...      StrategyData\n",
              "14618  Enable two-factor authentication on accounts f...    PurchaseOnline\n",
              "14619  Investigate the use of generative music algori...           DevTech\n",
              "\n",
              "[1462 rows x 2 columns]"
            ]
          },
          "execution_count": 6,
          "metadata": {},
          "output_type": "execute_result"
        }
      ],
      "source": [
        "df_testset1"
      ]
    },
    {
      "cell_type": "markdown",
      "metadata": {
        "id": "oDOaHXvqRmNk"
      },
      "source": [
        "###  Data Preprocessing"
      ]
    },
    {
      "cell_type": "code",
      "execution_count": 7,
      "metadata": {
        "id": "2VfQ7JEMRmNr"
      },
      "outputs": [],
      "source": [
        "import re\n",
        "from nltk.corpus import stopwords\n",
        "from nltk.stem import WordNetLemmatizer\n",
        "\n",
        "def preprocess_text(text):\n",
        "    text = text.lower()\n",
        "    text = re.sub(r'[^a-zA-Z0-9\\s]', '', text)\n",
        "    text = re.sub(r'\\d+', '', text)\n",
        "    tokens = word_tokenize(text)\n",
        "    tokens = [word for word in tokens if word not in stopwords.words('english')]\n",
        "    lemmatizer = WordNetLemmatizer()\n",
        "    tokens = [lemmatizer.lemmatize(word) for word in tokens]\n",
        "    \n",
        "    return tokens"
      ]
    },
    {
      "cell_type": "code",
      "execution_count": 8,
      "metadata": {
        "id": "9js-TDEKRmN4",
        "outputId": "3495292b-4dd6-4704-cfb4-0ea2a225481c"
      },
      "outputs": [
        {
          "data": {
            "text/html": [
              "<div>\n",
              "<style scoped>\n",
              "    .dataframe tbody tr th:only-of-type {\n",
              "        vertical-align: middle;\n",
              "    }\n",
              "\n",
              "    .dataframe tbody tr th {\n",
              "        vertical-align: top;\n",
              "    }\n",
              "\n",
              "    .dataframe thead th {\n",
              "        text-align: right;\n",
              "    }\n",
              "</style>\n",
              "<table border=\"1\" class=\"dataframe\">\n",
              "  <thead>\n",
              "    <tr style=\"text-align: right;\">\n",
              "      <th></th>\n",
              "      <th>Learning Message</th>\n",
              "      <th>L8 code</th>\n",
              "      <th>preprocessed_text</th>\n",
              "    </tr>\n",
              "  </thead>\n",
              "  <tbody>\n",
              "    <tr>\n",
              "      <th>0</th>\n",
              "      <td>Develop partnerships with local organizations ...</td>\n",
              "      <td>SettingGoals</td>\n",
              "      <td>[develop, partnership, local, organization, bu...</td>\n",
              "    </tr>\n",
              "    <tr>\n",
              "      <th>1</th>\n",
              "      <td>Unfortunately, I have to acknowledge that my p...</td>\n",
              "      <td>PastDFWork</td>\n",
              "      <td>[unfortunately, acknowledge, past, online, act...</td>\n",
              "    </tr>\n",
              "    <tr>\n",
              "      <th>2</th>\n",
              "      <td>Directions\\nRead the story below and then work...</td>\n",
              "      <td>EffectsCB</td>\n",
              "      <td>[direction, read, story, work, partner, answer...</td>\n",
              "    </tr>\n",
              "    <tr>\n",
              "      <th>3</th>\n",
              "      <td>Ensure AI and machine learning applications do...</td>\n",
              "      <td>DigitalEntrepreneurMinimizeRisk</td>\n",
              "      <td>[ensure, ai, machine, learning, application, p...</td>\n",
              "    </tr>\n",
              "    <tr>\n",
              "      <th>4</th>\n",
              "      <td>DirectionsWrite two things you learned about h...</td>\n",
              "      <td>PrioritizeLife</td>\n",
              "      <td>[directionswrite, two, thing, learned, social,...</td>\n",
              "    </tr>\n",
              "    <tr>\n",
              "      <th>...</th>\n",
              "      <td>...</td>\n",
              "      <td>...</td>\n",
              "      <td>...</td>\n",
              "    </tr>\n",
              "    <tr>\n",
              "      <th>13153</th>\n",
              "      <td>Before the video, ask: Have you ever noticed a...</td>\n",
              "      <td>MediaInfKnow</td>\n",
              "      <td>[video, ask, ever, noticed, product, recognize...</td>\n",
              "    </tr>\n",
              "    <tr>\n",
              "      <th>13154</th>\n",
              "      <td>Share how meeting an online friend impacted yo...</td>\n",
              "      <td>StrangerRisk</td>\n",
              "      <td>[share, meeting, online, friend, impacted, per...</td>\n",
              "    </tr>\n",
              "    <tr>\n",
              "      <th>13155</th>\n",
              "      <td>“THE 3-2-1 RULE”!3That means playing games LES...</td>\n",
              "      <td>STEnt</td>\n",
              "      <td>[rulethat, mean, playing, game, le, time, week...</td>\n",
              "    </tr>\n",
              "    <tr>\n",
              "      <th>13156</th>\n",
              "      <td>• Collect ads that use these techniques.  Make...</td>\n",
              "      <td>DigMarketing</td>\n",
              "      <td>[collect, ad, use, technique, make, display, a...</td>\n",
              "    </tr>\n",
              "    <tr>\n",
              "      <th>13157</th>\n",
              "      <td>Regularly update your device's security settin...</td>\n",
              "      <td>DetectIoTRisks</td>\n",
              "      <td>[regularly, update, device, security, setting,...</td>\n",
              "    </tr>\n",
              "  </tbody>\n",
              "</table>\n",
              "<p>13158 rows × 3 columns</p>\n",
              "</div>"
            ],
            "text/plain": [
              "                                        Learning Message  \\\n",
              "0      Develop partnerships with local organizations ...   \n",
              "1      Unfortunately, I have to acknowledge that my p...   \n",
              "2      Directions\\nRead the story below and then work...   \n",
              "3      Ensure AI and machine learning applications do...   \n",
              "4      DirectionsWrite two things you learned about h...   \n",
              "...                                                  ...   \n",
              "13153  Before the video, ask: Have you ever noticed a...   \n",
              "13154  Share how meeting an online friend impacted yo...   \n",
              "13155  “THE 3-2-1 RULE”!3That means playing games LES...   \n",
              "13156  • Collect ads that use these techniques.  Make...   \n",
              "13157  Regularly update your device's security settin...   \n",
              "\n",
              "                               L8 code  \\\n",
              "0                         SettingGoals   \n",
              "1                           PastDFWork   \n",
              "2                            EffectsCB   \n",
              "3      DigitalEntrepreneurMinimizeRisk   \n",
              "4                       PrioritizeLife   \n",
              "...                                ...   \n",
              "13153                     MediaInfKnow   \n",
              "13154                     StrangerRisk   \n",
              "13155                            STEnt   \n",
              "13156                     DigMarketing   \n",
              "13157                   DetectIoTRisks   \n",
              "\n",
              "                                       preprocessed_text  \n",
              "0      [develop, partnership, local, organization, bu...  \n",
              "1      [unfortunately, acknowledge, past, online, act...  \n",
              "2      [direction, read, story, work, partner, answer...  \n",
              "3      [ensure, ai, machine, learning, application, p...  \n",
              "4      [directionswrite, two, thing, learned, social,...  \n",
              "...                                                  ...  \n",
              "13153  [video, ask, ever, noticed, product, recognize...  \n",
              "13154  [share, meeting, online, friend, impacted, per...  \n",
              "13155  [rulethat, mean, playing, game, le, time, week...  \n",
              "13156  [collect, ad, use, technique, make, display, a...  \n",
              "13157  [regularly, update, device, security, setting,...  \n",
              "\n",
              "[13158 rows x 3 columns]"
            ]
          },
          "execution_count": 8,
          "metadata": {},
          "output_type": "execute_result"
        }
      ],
      "source": [
        "df_train['preprocessed_text'] = df_train['Learning Message'].apply(preprocess_text)\n",
        "df_train"
      ]
    },
    {
      "cell_type": "code",
      "execution_count": 9,
      "metadata": {
        "id": "d5BgxuPCRmOA",
        "outputId": "032f28ff-bd97-412c-d1bb-e6fb8f1bb36b"
      },
      "outputs": [
        {
          "data": {
            "text/html": [
              "<div>\n",
              "<style scoped>\n",
              "    .dataframe tbody tr th:only-of-type {\n",
              "        vertical-align: middle;\n",
              "    }\n",
              "\n",
              "    .dataframe tbody tr th {\n",
              "        vertical-align: top;\n",
              "    }\n",
              "\n",
              "    .dataframe thead th {\n",
              "        text-align: right;\n",
              "    }\n",
              "</style>\n",
              "<table border=\"1\" class=\"dataframe\">\n",
              "  <thead>\n",
              "    <tr style=\"text-align: right;\">\n",
              "      <th></th>\n",
              "      <th>Learning Message</th>\n",
              "      <th>L8 code</th>\n",
              "      <th>preprocessed_text</th>\n",
              "    </tr>\n",
              "  </thead>\n",
              "  <tbody>\n",
              "    <tr>\n",
              "      <th>13158</th>\n",
              "      <td>Find an article on the Internet about shark fi...</td>\n",
              "      <td>ComposingIPstate</td>\n",
              "      <td>[find, article, internet, shark, finning, url,...</td>\n",
              "    </tr>\n",
              "    <tr>\n",
              "      <th>13159</th>\n",
              "      <td>• What about the market position? Have these c...</td>\n",
              "      <td>KnowBiz</td>\n",
              "      <td>[market, position, company, managed, develop, ...</td>\n",
              "    </tr>\n",
              "    <tr>\n",
              "      <th>13160</th>\n",
              "      <td>Prioritize researching privacy concerns before...</td>\n",
              "      <td>KnowMyPISafe</td>\n",
              "      <td>[prioritize, researching, privacy, concern, pu...</td>\n",
              "    </tr>\n",
              "    <tr>\n",
              "      <th>13161</th>\n",
              "      <td>Identify whom you should talk back to about it...</td>\n",
              "      <td>FollowChainDF</td>\n",
              "      <td>[identify, talk, back, advertiser, company, ma...</td>\n",
              "    </tr>\n",
              "    <tr>\n",
              "      <th>13162</th>\n",
              "      <td>Turn off your webcam when it's not needed to p...</td>\n",
              "      <td>SkillsLimitPI</td>\n",
              "      <td>[turn, webcam, needed, prevent, unauthorized, ...</td>\n",
              "    </tr>\n",
              "    <tr>\n",
              "      <th>...</th>\n",
              "      <td>...</td>\n",
              "      <td>...</td>\n",
              "      <td>...</td>\n",
              "    </tr>\n",
              "    <tr>\n",
              "      <th>14615</th>\n",
              "      <td>Think twice about sharing your real name on so...</td>\n",
              "      <td>AnonyPI</td>\n",
              "      <td>[think, twice, sharing, real, name, social, me...</td>\n",
              "    </tr>\n",
              "    <tr>\n",
              "      <th>14616</th>\n",
              "      <td>Not all online actions have the same impact.</td>\n",
              "      <td>DefDF</td>\n",
              "      <td>[online, action, impact]</td>\n",
              "    </tr>\n",
              "    <tr>\n",
              "      <th>14617</th>\n",
              "      <td>Evaluate the impact on affected individuals an...</td>\n",
              "      <td>StrategyData</td>\n",
              "      <td>[evaluate, impact, affected, individual, offer...</td>\n",
              "    </tr>\n",
              "    <tr>\n",
              "      <th>14618</th>\n",
              "      <td>Enable two-factor authentication on accounts f...</td>\n",
              "      <td>PurchaseOnline</td>\n",
              "      <td>[enable, twofactor, authentication, account, e...</td>\n",
              "    </tr>\n",
              "    <tr>\n",
              "      <th>14619</th>\n",
              "      <td>Investigate the use of generative music algori...</td>\n",
              "      <td>DevTech</td>\n",
              "      <td>[investigate, use, generative, music, algorith...</td>\n",
              "    </tr>\n",
              "  </tbody>\n",
              "</table>\n",
              "<p>1462 rows × 3 columns</p>\n",
              "</div>"
            ],
            "text/plain": [
              "                                        Learning Message           L8 code  \\\n",
              "13158  Find an article on the Internet about shark fi...  ComposingIPstate   \n",
              "13159  • What about the market position? Have these c...           KnowBiz   \n",
              "13160  Prioritize researching privacy concerns before...      KnowMyPISafe   \n",
              "13161  Identify whom you should talk back to about it...     FollowChainDF   \n",
              "13162  Turn off your webcam when it's not needed to p...     SkillsLimitPI   \n",
              "...                                                  ...               ...   \n",
              "14615  Think twice about sharing your real name on so...           AnonyPI   \n",
              "14616       Not all online actions have the same impact.             DefDF   \n",
              "14617  Evaluate the impact on affected individuals an...      StrategyData   \n",
              "14618  Enable two-factor authentication on accounts f...    PurchaseOnline   \n",
              "14619  Investigate the use of generative music algori...           DevTech   \n",
              "\n",
              "                                       preprocessed_text  \n",
              "13158  [find, article, internet, shark, finning, url,...  \n",
              "13159  [market, position, company, managed, develop, ...  \n",
              "13160  [prioritize, researching, privacy, concern, pu...  \n",
              "13161  [identify, talk, back, advertiser, company, ma...  \n",
              "13162  [turn, webcam, needed, prevent, unauthorized, ...  \n",
              "...                                                  ...  \n",
              "14615  [think, twice, sharing, real, name, social, me...  \n",
              "14616                           [online, action, impact]  \n",
              "14617  [evaluate, impact, affected, individual, offer...  \n",
              "14618  [enable, twofactor, authentication, account, e...  \n",
              "14619  [investigate, use, generative, music, algorith...  \n",
              "\n",
              "[1462 rows x 3 columns]"
            ]
          },
          "execution_count": 9,
          "metadata": {},
          "output_type": "execute_result"
        }
      ],
      "source": [
        "df_testset1['preprocessed_text'] = df_testset1['Learning Message'].apply(preprocess_text)\n",
        "df_testset1"
      ]
    },
    {
      "cell_type": "markdown",
      "metadata": {
        "id": "Mk3CGlYcRmOK"
      },
      "source": [
        "### Labels count"
      ]
    },
    {
      "cell_type": "code",
      "execution_count": 10,
      "metadata": {
        "colab": {
          "base_uri": "https://localhost:8080/"
        },
        "id": "jXOVCdiURmOP",
        "outputId": "b7f73ab1-944a-427f-8d19-a1b3ba0adb8d"
      },
      "outputs": [
        {
          "name": "stdout",
          "output_type": "stream",
          "text": [
            "L8 code\n",
            "FactCheckingInfo      186\n",
            "BasicKnowContRisk     177\n",
            "KnowHardSoftWare      174\n",
            "MediaInfKnow          165\n",
            "BasicContentSkills    139\n",
            "                     ... \n",
            "RecognizeAIinTools     41\n",
            "DealCon                41\n",
            "AttTechPI              37\n",
            "FamilyTechAware        33\n",
            "MutualApproval         29\n",
            "Name: count, Length: 208, dtype: int64\n"
          ]
        }
      ],
      "source": [
        "print(df_train[\"L8 code\"].value_counts())"
      ]
    },
    {
      "cell_type": "markdown",
      "metadata": {
        "id": "OrIspgNMRmOY"
      },
      "source": [
        "### TF-IDF (Term Frequency-Inverse Document Frequency):"
      ]
    },
    {
      "cell_type": "code",
      "execution_count": 40,
      "metadata": {
        "id": "d-oz78mKRmOb"
      },
      "outputs": [],
      "source": [
        "tfidf_vectorizer = TfidfVectorizer()\n",
        "tfidf_vectors = tfidf_vectorizer.fit_transform(df_train['preprocessed_text'].apply(lambda x: ' '.join(x)))\n",
        "tfidf_test = tfidf_vectorizer.transform(df_testset1[\"preprocessed_text\"].apply(lambda x: ' '.join(x)))"
      ]
    },
    {
      "cell_type": "code",
      "execution_count": 41,
      "metadata": {
        "id": "MMYWvk-KRmOg",
        "outputId": "3320dce8-133c-4456-b0fb-bd70d25be440"
      },
      "outputs": [
        {
          "data": {
            "text/plain": [
              "<13158x14636 sparse matrix of type '<class 'numpy.float64'>'\n",
              "\twith 232368 stored elements in Compressed Sparse Row format>"
            ]
          },
          "execution_count": 41,
          "metadata": {},
          "output_type": "execute_result"
        }
      ],
      "source": [
        "tfidf_vectors"
      ]
    },
    {
      "cell_type": "code",
      "execution_count": 42,
      "metadata": {
        "id": "GJA9ZUdORmOm",
        "outputId": "606898f9-0e2d-4ca2-c0b3-5bb94278600d"
      },
      "outputs": [
        {
          "data": {
            "text/plain": [
              "<1462x14636 sparse matrix of type '<class 'numpy.float64'>'\n",
              "\twith 25135 stored elements in Compressed Sparse Row format>"
            ]
          },
          "execution_count": 42,
          "metadata": {},
          "output_type": "execute_result"
        }
      ],
      "source": [
        "tfidf_test"
      ]
    },
    {
      "cell_type": "markdown",
      "metadata": {
        "id": "8ANkxBiURmOr"
      },
      "source": [
        "### Label Encode L8,L9"
      ]
    },
    {
      "cell_type": "code",
      "execution_count": 43,
      "metadata": {
        "id": "EErY8C5zRmOu"
      },
      "outputs": [],
      "source": [
        "train_8=list(df_train[\"L8 code\"].tolist())\n",
        "test_8=list(df_testset1[\"L8 code\"].tolist())"
      ]
    },
    {
      "cell_type": "code",
      "execution_count": 44,
      "metadata": {
        "id": "R-cJlPgBRmOx"
      },
      "outputs": [],
      "source": [
        "eight=list(set(train_8+test_8))\n",
        "l8={value: index for index, value in enumerate(eight)}"
      ]
    },
    {
      "cell_type": "code",
      "execution_count": 45,
      "metadata": {
        "id": "8UONeaxXRmO1"
      },
      "outputs": [],
      "source": [
        "df_train[\"L8\"]=df_train[\"L8 code\"].map(l8)\n",
        "df_testset1[\"L8\"]=df_testset1[\"L8 code\"].map(l8)"
      ]
    },
    {
      "cell_type": "markdown",
      "metadata": {
        "id": "wwTI3U0ARmO5"
      },
      "source": [
        "### Logistic Regression"
      ]
    },
    {
      "cell_type": "code",
      "execution_count": 17,
      "metadata": {
        "id": "Var15wwIRmO7",
        "outputId": "07f3092d-18de-4c63-8508-5d7346d67d76"
      },
      "outputs": [
        {
          "name": "stdout",
          "output_type": "stream",
          "text": [
            "Accuracy: 0.38645690834473323\n",
            "Precision: 0.4661062652177826\n",
            "Recall: 0.38645690834473323\n",
            "F1-score: 0.37221063881171385\n"
          ]
        },
        {
          "name": "stderr",
          "output_type": "stream",
          "text": [
            "C:\\Users\\Hamza\\AppData\\Roaming\\Python\\Python311\\site-packages\\sklearn\\metrics\\_classification.py:1469: UndefinedMetricWarning: Precision is ill-defined and being set to 0.0 in labels with no predicted samples. Use `zero_division` parameter to control this behavior.\n",
            "  _warn_prf(average, modifier, msg_start, len(result))\n"
          ]
        }
      ],
      "source": [
        "logreg_model = LogisticRegression()\n",
        "\n",
        "logreg_model.fit(tfidf_vectors, df_train[\"L8 code\"])\n",
        "\n",
        "y_pred_logreg = logreg_model.predict(tfidf_test)\n",
        "\n",
        "accuracy_logreg = accuracy_score(df_testset1[\"L8 code\"], y_pred_logreg)\n",
        "accuracy = accuracy_score(df_testset1[\"L8 code\"], y_pred_logreg)\n",
        "precision = precision_score(df_testset1[\"L8 code\"], y_pred_logreg, average='weighted')\n",
        "recall = recall_score(df_testset1[\"L8 code\"], y_pred_logreg, average='weighted')\n",
        "f1 = f1_score(df_testset1[\"L8 code\"], y_pred_logreg, average='weighted')\n",
        "\n",
        "print(\"Accuracy:\", accuracy)\n",
        "print(\"Precision:\", precision)\n",
        "print(\"Recall:\", recall)\n",
        "print(\"F1-score:\", f1)"
      ]
    },
    {
      "cell_type": "markdown",
      "metadata": {
        "id": "gBcUKymSRmO_"
      },
      "source": [
        "### Decision Tree"
      ]
    },
    {
      "cell_type": "code",
      "execution_count": 18,
      "metadata": {
        "id": "tCs7cjdqRmPB",
        "outputId": "1443c9d4-4978-41bf-b20c-97d7b0e2917a"
      },
      "outputs": [
        {
          "name": "stdout",
          "output_type": "stream",
          "text": [
            "Accuracy: 0.2694938440492476\n",
            "Precision: 0.28898994871977085\n",
            "Recall: 0.2694938440492476\n",
            "F1-score: 0.2655522401945359\n"
          ]
        }
      ],
      "source": [
        "decision_tree_model = DecisionTreeClassifier()\n",
        "\n",
        "decision_tree_model.fit(tfidf_vectors, df_train[\"L8 code\"])\n",
        "\n",
        "y_pred_dt = decision_tree_model.predict(tfidf_test)\n",
        "\n",
        "accuracy_logreg = accuracy_score(df_testset1[\"L8 code\"], y_pred_dt)\n",
        "accuracy = accuracy_score(df_testset1[\"L8 code\"], y_pred_dt)\n",
        "precision = precision_score(df_testset1[\"L8 code\"], y_pred_dt, average='weighted')\n",
        "recall = recall_score(df_testset1[\"L8 code\"], y_pred_dt, average='weighted')\n",
        "f1 = f1_score(df_testset1[\"L8 code\"], y_pred_dt, average='weighted')\n",
        "\n",
        "print(\"Accuracy:\", accuracy)\n",
        "print(\"Precision:\", precision)\n",
        "print(\"Recall:\", recall)\n",
        "print(\"F1-score:\", f1)"
      ]
    },
    {
      "cell_type": "markdown",
      "metadata": {
        "id": "_PYuBdOQRmPE"
      },
      "source": [
        "### Random Forest"
      ]
    },
    {
      "cell_type": "code",
      "execution_count": 19,
      "metadata": {
        "id": "V6DfC0viRmPH",
        "outputId": "d07513ff-3898-47ea-9f56-471f9089fffd"
      },
      "outputs": [
        {
          "name": "stderr",
          "output_type": "stream",
          "text": [
            "C:\\Users\\Hamza\\AppData\\Roaming\\Python\\Python311\\site-packages\\sklearn\\metrics\\_classification.py:1469: UndefinedMetricWarning: Precision is ill-defined and being set to 0.0 in labels with no predicted samples. Use `zero_division` parameter to control this behavior.\n",
            "  _warn_prf(average, modifier, msg_start, len(result))\n"
          ]
        },
        {
          "name": "stdout",
          "output_type": "stream",
          "text": [
            "Accuracy: 0.38919288645690836\n",
            "Precision: 0.4358984420104955\n",
            "Recall: 0.38919288645690836\n",
            "F1-score: 0.37159902897167657\n"
          ]
        }
      ],
      "source": [
        "random_forest_model = RandomForestClassifier()\n",
        "\n",
        "random_forest_model.fit(tfidf_vectors, df_train[\"L8 code\"])\n",
        "\n",
        "y_pred_rf = random_forest_model.predict(tfidf_test)\n",
        "\n",
        "accuracy_logreg = accuracy_score(df_testset1[\"L8 code\"], y_pred_rf)\n",
        "accuracy = accuracy_score(df_testset1[\"L8 code\"], y_pred_rf)\n",
        "precision = precision_score(df_testset1[\"L8 code\"], y_pred_rf, average='weighted')\n",
        "recall = recall_score(df_testset1[\"L8 code\"], y_pred_rf, average='weighted')\n",
        "f1 = f1_score(df_testset1[\"L8 code\"], y_pred_rf, average='weighted')\n",
        "\n",
        "print(\"Accuracy:\", accuracy)\n",
        "print(\"Precision:\", precision)\n",
        "print(\"Recall:\", recall)\n",
        "print(\"F1-score:\", f1)"
      ]
    },
    {
      "cell_type": "markdown",
      "metadata": {
        "id": "o2zjwPrzRmPN"
      },
      "source": [
        "### SVM"
      ]
    },
    {
      "cell_type": "code",
      "execution_count": 46,
      "metadata": {
        "id": "Tz6w8WMhRmPQ",
        "outputId": "5591125f-71e0-4798-8a6a-30db4d3c1138"
      },
      "outputs": [
        {
          "name": "stdout",
          "output_type": "stream",
          "text": [
            "SVM Classifier Metrics:\n",
            "Accuracy: 0.4418604651162791\n",
            "Precision: 0.49438273600798954\n",
            "Recall: 0.4418604651162791\n",
            "F1-score: 0.43899869076598363\n"
          ]
        },
        {
          "name": "stderr",
          "output_type": "stream",
          "text": [
            "C:\\Users\\Hamza\\AppData\\Roaming\\Python\\Python311\\site-packages\\sklearn\\metrics\\_classification.py:1469: UndefinedMetricWarning: Precision is ill-defined and being set to 0.0 in labels with no predicted samples. Use `zero_division` parameter to control this behavior.\n",
            "  _warn_prf(average, modifier, msg_start, len(result))\n"
          ]
        }
      ],
      "source": [
        "from sklearn.svm import SVC\n",
        "from sklearn.metrics import accuracy_score, precision_score, recall_score, f1_score\n",
        "from sklearn.feature_extraction.text import TfidfVectorizer\n",
        "\n",
        "svm_model = SVC(kernel='linear')\n",
        "\n",
        "svm_model.fit(tfidf_vectors, df_train[\"L8 code\"])\n",
        "y_pred_svm = svm_model.predict(tfidf_test)\n",
        "\n",
        "accuracy_svm = accuracy_score(df_testset1[\"L8 code\"], y_pred_svm)\n",
        "precision_svm = precision_score(df_testset1[\"L8 code\"], y_pred_svm, average='weighted')\n",
        "recall_svm = recall_score(df_testset1[\"L8 code\"], y_pred_svm, average='weighted')\n",
        "f1_svm = f1_score(df_testset1[\"L8 code\"], y_pred_svm, average='weighted')\n",
        "\n",
        "print(\"SVM Classifier Metrics:\")\n",
        "print(\"Accuracy:\", accuracy_svm)\n",
        "print(\"Precision:\", precision_svm)\n",
        "print(\"Recall:\", recall_svm)\n",
        "print(\"F1-score:\", f1_svm)"
      ]
    },
    {
      "cell_type": "markdown",
      "metadata": {
        "id": "fVPIp98NRmPX"
      },
      "source": [
        "# Using another embedding technique"
      ]
    },
    {
      "cell_type": "markdown",
      "metadata": {
        "id": "2zhkM7znRmPa"
      },
      "source": [
        "### Glove Vectors"
      ]
    },
    {
      "cell_type": "code",
      "execution_count": 21,
      "metadata": {
        "id": "Kuu7qTCTRmPc"
      },
      "outputs": [],
      "source": [
        "import gensim.downloader as api\n",
        "\n",
        "glove_vectors = api.load(\"glove-wiki-gigaword-300\")\n",
        "\n",
        "\n",
        "def embed(x):\n",
        "    tokens = x\n",
        "    embedded_tokens = []\n",
        "    for token in tokens:\n",
        "        if token in glove_vectors:\n",
        "            embedded_tokens.append(glove_vectors[token])\n",
        "    return np.mean(embedded_tokens, axis=0)"
      ]
    },
    {
      "cell_type": "code",
      "execution_count": 22,
      "metadata": {
        "id": "Eeyk1INrRmPg"
      },
      "outputs": [],
      "source": [
        "train = df_train[\"preprocessed_text\"].apply(embed)\n",
        "test = df_testset1[\"preprocessed_text\"].apply(embed)"
      ]
    },
    {
      "cell_type": "code",
      "execution_count": 23,
      "metadata": {
        "id": "AeeBmFTvRmPk",
        "outputId": "a4eec1c2-c83e-456f-a8af-67ac89386122"
      },
      "outputs": [
        {
          "data": {
            "text/plain": [
              "0        [-0.18963581, 0.008763462, -0.065585226, -0.33...\n",
              "1        [-0.09119807, 0.15561, -0.028068157, -0.101118...\n",
              "2        [-0.050087072, 0.048103854, -0.16219346, -0.08...\n",
              "3        [-0.03390626, 0.02402198, -0.04094587, -0.0901...\n",
              "4        [-0.03811245, 0.05907425, 0.099199995, -0.1213...\n",
              "                               ...                        \n",
              "13153    [-0.07161873, 0.3926502, 0.005231486, -0.02639...\n",
              "13154    [-0.32081452, 0.025867004, -0.07973113, -0.151...\n",
              "13155    [-0.21206024, 0.24310327, -0.0117567135, -0.08...\n",
              "13156    [0.024368001, 0.28551495, 0.045916714, -0.1914...\n",
              "13157    [-0.15403785, 0.053178158, 0.008383612, -0.018...\n",
              "Name: preprocessed_text, Length: 13158, dtype: object"
            ]
          },
          "execution_count": 23,
          "metadata": {},
          "output_type": "execute_result"
        }
      ],
      "source": [
        "train"
      ]
    },
    {
      "cell_type": "code",
      "execution_count": 24,
      "metadata": {
        "id": "PcGN1BGSRmPs"
      },
      "outputs": [],
      "source": [
        "y_train = df_train[\"L8 code\"]\n",
        "y_test = df_testset1[\"L8 code\"]\n",
        "scaler = StandardScaler()\n",
        "X_train_scaled = scaler.fit_transform(train.tolist())\n",
        "X_test_scaled = scaler.transform(test.tolist())"
      ]
    },
    {
      "cell_type": "markdown",
      "metadata": {},
      "source": [
        "### Logistic Regression"
      ]
    },
    {
      "cell_type": "code",
      "execution_count": 25,
      "metadata": {
        "id": "CLY5nVl0RmPv",
        "outputId": "a8371513-c6e9-4d7c-fa93-80d68e1c3423"
      },
      "outputs": [
        {
          "name": "stdout",
          "output_type": "stream",
          "text": [
            "Accuracy: 0.32694938440492477\n",
            "Precision: 0.35859009779505474\n",
            "Recall: 0.32694938440492477\n",
            "F1-score: 0.3295519215044941\n"
          ]
        },
        {
          "name": "stderr",
          "output_type": "stream",
          "text": [
            "C:\\Users\\Hamza\\AppData\\Roaming\\Python\\Python311\\site-packages\\sklearn\\linear_model\\_logistic.py:460: ConvergenceWarning: lbfgs failed to converge (status=1):\n",
            "STOP: TOTAL NO. of ITERATIONS REACHED LIMIT.\n",
            "\n",
            "Increase the number of iterations (max_iter) or scale the data as shown in:\n",
            "    https://scikit-learn.org/stable/modules/preprocessing.html\n",
            "Please also refer to the documentation for alternative solver options:\n",
            "    https://scikit-learn.org/stable/modules/linear_model.html#logistic-regression\n",
            "  n_iter_i = _check_optimize_result(\n",
            "C:\\Users\\Hamza\\AppData\\Roaming\\Python\\Python311\\site-packages\\sklearn\\metrics\\_classification.py:1469: UndefinedMetricWarning: Precision is ill-defined and being set to 0.0 in labels with no predicted samples. Use `zero_division` parameter to control this behavior.\n",
            "  _warn_prf(average, modifier, msg_start, len(result))\n"
          ]
        }
      ],
      "source": [
        "logreg = LogisticRegression()\n",
        "logreg.fit(X_train_scaled, y_train)\n",
        "y_pred = logreg.predict(X_test_scaled)\n",
        "\n",
        "accuracy = accuracy_score(y_test, y_pred)\n",
        "precision = precision_score(y_test, y_pred, average='weighted')\n",
        "recall = recall_score(y_test, y_pred, average='weighted')\n",
        "f1 = f1_score(y_test, y_pred, average='weighted')\n",
        "\n",
        "print(\"Accuracy:\", accuracy)\n",
        "print(\"Precision:\", precision)\n",
        "print(\"Recall:\", recall)\n",
        "print(\"F1-score:\", f1)"
      ]
    },
    {
      "cell_type": "markdown",
      "metadata": {
        "id": "e_vdIANLRmPy"
      },
      "source": [
        "### Decision Tree"
      ]
    },
    {
      "cell_type": "code",
      "execution_count": 26,
      "metadata": {
        "id": "-20WE4VIRmP0",
        "outputId": "59fedfbb-7636-456b-ff6f-7ea472ad9b2c"
      },
      "outputs": [
        {
          "name": "stdout",
          "output_type": "stream",
          "text": [
            "Decision Tree Classifier:\n",
            "Accuracy: 0.0677154582763338\n",
            "Precision: 0.08131331273026139\n",
            "Recall: 0.0677154582763338\n",
            "F1-score: 0.06739887131004903\n"
          ]
        },
        {
          "name": "stderr",
          "output_type": "stream",
          "text": [
            "C:\\Users\\Hamza\\AppData\\Roaming\\Python\\Python311\\site-packages\\sklearn\\metrics\\_classification.py:1469: UndefinedMetricWarning: Precision is ill-defined and being set to 0.0 in labels with no predicted samples. Use `zero_division` parameter to control this behavior.\n",
            "  _warn_prf(average, modifier, msg_start, len(result))\n"
          ]
        }
      ],
      "source": [
        "dt_classifier = DecisionTreeClassifier()\n",
        "dt_classifier.fit(X_train_scaled, y_train)\n",
        "dt_y_pred = dt_classifier.predict(X_test_scaled)\n",
        "\n",
        "dt_accuracy = accuracy_score(y_test, dt_y_pred)\n",
        "dt_precision = precision_score(y_test, dt_y_pred, average='weighted')\n",
        "dt_recall = recall_score(y_test, dt_y_pred, average='weighted')\n",
        "dt_f1 = f1_score(y_test, dt_y_pred, average='weighted')\n",
        "\n",
        "print(\"Decision Tree Classifier:\")\n",
        "print(\"Accuracy:\", dt_accuracy)\n",
        "print(\"Precision:\", dt_precision)\n",
        "print(\"Recall:\", dt_recall)\n",
        "print(\"F1-score:\", dt_f1)"
      ]
    },
    {
      "cell_type": "markdown",
      "metadata": {
        "id": "mu5DeZ52RmP3"
      },
      "source": [
        "### Random Forest"
      ]
    },
    {
      "cell_type": "code",
      "execution_count": 27,
      "metadata": {
        "id": "5wU5RRO3RmRU",
        "outputId": "5b64df51-3c3d-41e7-80da-8ed991350a05"
      },
      "outputs": [
        {
          "name": "stderr",
          "output_type": "stream",
          "text": [
            "C:\\Users\\Hamza\\AppData\\Roaming\\Python\\Python311\\site-packages\\sklearn\\metrics\\_classification.py:1469: UndefinedMetricWarning: Precision is ill-defined and being set to 0.0 in labels with no predicted samples. Use `zero_division` parameter to control this behavior.\n",
            "  _warn_prf(average, modifier, msg_start, len(result))\n"
          ]
        },
        {
          "name": "stdout",
          "output_type": "stream",
          "text": [
            "\n",
            "Random Forest Classifier:\n",
            "Accuracy: 0.2708618331053352\n",
            "Precision: 0.28514842757177156\n",
            "Recall: 0.2708618331053352\n",
            "F1-score: 0.24873928848703306\n"
          ]
        }
      ],
      "source": [
        "rf_classifier = RandomForestClassifier()\n",
        "rf_classifier.fit(X_train_scaled, y_train)\n",
        "rf_y_pred = rf_classifier.predict(X_test_scaled)\n",
        "\n",
        "rf_accuracy = accuracy_score(y_test, rf_y_pred)\n",
        "rf_precision = precision_score(y_test, rf_y_pred, average='weighted')\n",
        "rf_recall = recall_score(y_test, rf_y_pred, average='weighted')\n",
        "rf_f1 = f1_score(y_test, rf_y_pred, average='weighted')\n",
        "\n",
        "print(\"\\nRandom Forest Classifier:\")\n",
        "print(\"Accuracy:\", rf_accuracy)\n",
        "print(\"Precision:\", rf_precision)\n",
        "print(\"Recall:\", rf_recall)\n",
        "print(\"F1-score:\", rf_f1)"
      ]
    },
    {
      "cell_type": "markdown",
      "metadata": {
        "id": "Ttot-PdfRmRZ"
      },
      "source": [
        "### SVM"
      ]
    },
    {
      "cell_type": "code",
      "execution_count": 28,
      "metadata": {
        "id": "bR6ON_s9RmRc",
        "outputId": "9ea0d4d5-ca47-437a-8366-9d8a2d334bc7"
      },
      "outputs": [
        {
          "name": "stderr",
          "output_type": "stream",
          "text": [
            "C:\\Users\\Hamza\\AppData\\Roaming\\Python\\Python311\\site-packages\\sklearn\\metrics\\_classification.py:1469: UndefinedMetricWarning: Precision is ill-defined and being set to 0.0 in labels with no predicted samples. Use `zero_division` parameter to control this behavior.\n",
            "  _warn_prf(average, modifier, msg_start, len(result))\n"
          ]
        },
        {
          "name": "stdout",
          "output_type": "stream",
          "text": [
            "\n",
            "Support Vector Machine Classifier:\n",
            "Accuracy: 0.41381668946648426\n",
            "Precision: 0.4801125955038228\n",
            "Recall: 0.41381668946648426\n",
            "F1-score: 0.4134383154442754\n"
          ]
        }
      ],
      "source": [
        "from sklearn.svm import SVC\n",
        "from sklearn.metrics import accuracy_score, precision_score, recall_score, f1_score\n",
        "\n",
        "svm_classifier = SVC()\n",
        "svm_classifier.fit(X_train_scaled, y_train)\n",
        "svm_y_pred = svm_classifier.predict(X_test_scaled)\n",
        "\n",
        "svm_accuracy = accuracy_score(y_test, svm_y_pred)\n",
        "svm_precision = precision_score(y_test, svm_y_pred, average='weighted')\n",
        "svm_recall = recall_score(y_test, svm_y_pred, average='weighted')\n",
        "svm_f1 = f1_score(y_test, svm_y_pred, average='weighted')\n",
        "\n",
        "print(\"\\nSupport Vector Machine Classifier:\")\n",
        "print(\"Accuracy:\", svm_accuracy)\n",
        "print(\"Precision:\", svm_precision)\n",
        "print(\"Recall:\", svm_recall)\n",
        "print(\"F1-score:\", svm_f1)"
      ]
    },
    {
      "cell_type": "markdown",
      "metadata": {},
      "source": [
        "### Best Model is SVM"
      ]
    },
    {
      "cell_type": "markdown",
      "metadata": {},
      "source": [
        "### Testing for testset1, 2 and 4"
      ]
    },
    {
      "cell_type": "code",
      "execution_count": 73,
      "metadata": {},
      "outputs": [],
      "source": [
        "def test(filee):\n",
        "    t1=pd.read_excel(filee)\n",
        "    t1['preprocessed_text'] = t1['Definition'].apply(preprocess_text)\n",
        "    t1_vector = TfidfVectorizer()\n",
        "    t1_vectors = tfidf_vectorizer.transform(t1['preprocessed_text'].apply(lambda x: ' '.join(x)))\n",
        "    t1[\"L8\"]=t1[\"L8 code\"].map(l8)\n",
        "\n",
        "    y_pred_svm = svm_model.predict(t1_vectors)\n",
        "\n",
        "    accuracy_svm = accuracy_score(t1[\"L8 code\"], y_pred_svm)\n",
        "    precision_svm = precision_score(t1[\"L8 code\"], y_pred_svm, average='weighted')\n",
        "    recall_svm = recall_score(t1[\"L8 code\"], y_pred_svm, average='weighted')\n",
        "    f1_svm = f1_score(t1[\"L8 code\"], y_pred_svm, average='weighted')\n",
        "\n",
        "    print(\"SVM Classifier Metrics:\")\n",
        "    print(\"Accuracy:\", accuracy_svm)\n",
        "    print(\"Precision:\", precision_svm)\n",
        "    print(\"Recall:\", recall_svm)\n",
        "    print(\"F1-score:\", f1_svm)\n",
        "\n",
        "    return y_pred_svm,t1[\"L8 code\"] "
      ]
    },
    {
      "cell_type": "code",
      "execution_count": 79,
      "metadata": {},
      "outputs": [
        {
          "name": "stderr",
          "output_type": "stream",
          "text": [
            "C:\\Users\\Hamza\\AppData\\Roaming\\Python\\Python311\\site-packages\\sklearn\\metrics\\_classification.py:1469: UndefinedMetricWarning: Precision is ill-defined and being set to 0.0 in labels with no predicted samples. Use `zero_division` parameter to control this behavior.\n",
            "  _warn_prf(average, modifier, msg_start, len(result))\n",
            "C:\\Users\\Hamza\\AppData\\Roaming\\Python\\Python311\\site-packages\\sklearn\\metrics\\_classification.py:1469: UndefinedMetricWarning: Recall is ill-defined and being set to 0.0 in labels with no true samples. Use `zero_division` parameter to control this behavior.\n",
            "  _warn_prf(average, modifier, msg_start, len(result))\n"
          ]
        },
        {
          "name": "stdout",
          "output_type": "stream",
          "text": [
            "SVM Classifier Metrics:\n",
            "Accuracy: 0.8533333333333334\n",
            "Precision: 0.8625185185185185\n",
            "Recall: 0.8533333333333334\n",
            "F1-score: 0.8439906629318394\n"
          ]
        }
      ],
      "source": [
        "pred,true=test(\"testset1.xlsx\")\n",
        "pd.concat([pd.DataFrame(pred),true],axis=1).to_csv(\"testset1_result.csv\")"
      ]
    },
    {
      "cell_type": "code",
      "execution_count": 80,
      "metadata": {},
      "outputs": [
        {
          "name": "stdout",
          "output_type": "stream",
          "text": [
            "SVM Classifier Metrics:\n",
            "Accuracy: 0.8249427917620137\n",
            "Precision: 0.8290219696566576\n",
            "Recall: 0.8249427917620137\n",
            "F1-score: 0.8157534326721272\n"
          ]
        },
        {
          "name": "stderr",
          "output_type": "stream",
          "text": [
            "C:\\Users\\Hamza\\AppData\\Roaming\\Python\\Python311\\site-packages\\sklearn\\metrics\\_classification.py:1469: UndefinedMetricWarning: Precision is ill-defined and being set to 0.0 in labels with no predicted samples. Use `zero_division` parameter to control this behavior.\n",
            "  _warn_prf(average, modifier, msg_start, len(result))\n",
            "C:\\Users\\Hamza\\AppData\\Roaming\\Python\\Python311\\site-packages\\sklearn\\metrics\\_classification.py:1469: UndefinedMetricWarning: Recall is ill-defined and being set to 0.0 in labels with no true samples. Use `zero_division` parameter to control this behavior.\n",
            "  _warn_prf(average, modifier, msg_start, len(result))\n"
          ]
        }
      ],
      "source": [
        "pred,true=test(\"testset2.xlsx\")\n",
        "pd.concat([pd.DataFrame(pred),true],axis=1).to_csv(\"testset2_result.csv\")"
      ]
    },
    {
      "cell_type": "code",
      "execution_count": 81,
      "metadata": {},
      "outputs": [
        {
          "name": "stdout",
          "output_type": "stream",
          "text": [
            "SVM Classifier Metrics:\n",
            "Accuracy: 0.8473592571096924\n",
            "Precision: 0.8601832655662801\n",
            "Recall: 0.8473592571096924\n",
            "F1-score: 0.845834193298301\n"
          ]
        },
        {
          "name": "stderr",
          "output_type": "stream",
          "text": [
            "C:\\Users\\Hamza\\AppData\\Roaming\\Python\\Python311\\site-packages\\sklearn\\metrics\\_classification.py:1469: UndefinedMetricWarning: Precision is ill-defined and being set to 0.0 in labels with no predicted samples. Use `zero_division` parameter to control this behavior.\n",
            "  _warn_prf(average, modifier, msg_start, len(result))\n",
            "C:\\Users\\Hamza\\AppData\\Roaming\\Python\\Python311\\site-packages\\sklearn\\metrics\\_classification.py:1469: UndefinedMetricWarning: Recall is ill-defined and being set to 0.0 in labels with no true samples. Use `zero_division` parameter to control this behavior.\n",
            "  _warn_prf(average, modifier, msg_start, len(result))\n"
          ]
        }
      ],
      "source": [
        "pred,true=test(\"testset4.xlsx\")\n",
        "pd.concat([pd.DataFrame(pred),true],axis=1).to_csv(\"testset4_result.csv\")"
      ]
    }
  ],
  "metadata": {
    "accelerator": "GPU",
    "colab": {
      "gpuType": "T4",
      "provenance": []
    },
    "kernelspec": {
      "display_name": "Python 3",
      "name": "python3"
    },
    "language_info": {
      "codemirror_mode": {
        "name": "ipython",
        "version": 3
      },
      "file_extension": ".py",
      "mimetype": "text/x-python",
      "name": "python",
      "nbconvert_exporter": "python",
      "pygments_lexer": "ipython3",
      "version": "3.11.5"
    }
  },
  "nbformat": 4,
  "nbformat_minor": 0
}
